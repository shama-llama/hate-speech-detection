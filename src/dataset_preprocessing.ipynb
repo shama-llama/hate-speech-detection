{
 "cells": [
  {
   "cell_type": "markdown",
   "id": "a5b5881e",
   "metadata": {},
   "source": [
    "# Text Preprocessing\n",
    "\n",
    "This notebook demonstrates essential preprocessing steps for Amharic text data, focusing on normalization and cleaning while preserving linguistic information crucial for transformer-based models. It avoids steps that harm transformer performance, such as stop word removal, stemming, or lowercasing."
   ]
  },
  {
   "cell_type": "code",
   "execution_count": 8,
   "id": "4b8f19d3",
   "metadata": {},
   "outputs": [],
   "source": [
    "# Import required libraries\n",
    "import pandas as pd\n",
    "import re\n",
    "\n",
    "# Example: Load your dataset (update path as needed)\n",
    "df = pd.read_csv(\"../dataset/combined_dataset.csv\")"
   ]
  },
  {
   "cell_type": "markdown",
   "id": "5db8a0c2",
   "metadata": {},
   "source": [
    "## Amharic Character Normalization"
   ]
  },
  {
   "cell_type": "code",
   "execution_count": 9,
   "id": "539d60c8",
   "metadata": {},
   "outputs": [],
   "source": [
    "# Define Amharic normalization mapping (expand as needed)\n",
    "amharic_normalization_map = {\n",
    "    \"ሀ\": \"ሃ\", \"ሐ\": \"ሃ\", \"ኀ\": \"ሃ\",  # All to 'ሃ'\n",
    "    \"ሰ\": \"ሠ\",  # Example: map 'ሰ' to 'ሠ' (customize as needed)\n",
    "    # Add more mappings as appropriate for your data\n",
    "}\n",
    "def normalize_amharic(text):\n",
    "    for src, tgt in amharic_normalization_map.items():\n",
    "        text = text.replace(src, tgt)\n",
    "    return text\n",
    "\n",
    "df[\"text\"] = df[\"text\"].astype(str).apply(normalize_amharic)"
   ]
  },
  {
   "cell_type": "markdown",
   "id": "757a40a9",
   "metadata": {},
   "source": [
    "## Removal of URLs and User Mentions"
   ]
  },
  {
   "cell_type": "code",
   "execution_count": 10,
   "id": "c6c2b256",
   "metadata": {},
   "outputs": [],
   "source": [
    "def remove_urls_mentions(text):\n",
    "    text = re.sub(r\"https?://\\S+\", \"\", text)  # Remove URLs\n",
    "    text = re.sub(r\"www\\.\\S+\", \"\", text)     # Remove www URLs\n",
    "    text = re.sub(r\"@\\w+\", \"\", text)          # Remove @mentions\n",
    "    return text\n",
    "\n",
    "df[\"text\"] = df[\"text\"].apply(remove_urls_mentions)"
   ]
  },
  {
   "cell_type": "markdown",
   "id": "9d05c118",
   "metadata": {},
   "source": [
    "## Whitespace Standardization"
   ]
  },
  {
   "cell_type": "code",
   "execution_count": 11,
   "id": "a68c11a0",
   "metadata": {},
   "outputs": [],
   "source": [
    "def standardize_whitespace(text):\n",
    "    text = text.strip()\n",
    "    text = re.sub(r\"\\s+\", \" \", text)\n",
    "    return text\n",
    "\n",
    "df[\"text\"] = df[\"text\"].apply(standardize_whitespace)"
   ]
  },
  {
   "cell_type": "markdown",
   "id": "dcebbc2a",
   "metadata": {},
   "source": [
    "## Punctuation Standardization"
   ]
  },
  {
   "cell_type": "code",
   "execution_count": 12,
   "id": "8c0c3a4e",
   "metadata": {},
   "outputs": [],
   "source": [
    "def standardize_punctuation(text):\n",
    "    # Collapse repeated exclamation/question marks and Amharic equivalents\n",
    "    text = re.sub(r\"([!！፣።፤፥፦፧፨?？])\\1+\", r\"\\1\", text)\n",
    "    return text\n",
    "\n",
    "df[\"text\"] = df[\"text\"].apply(standardize_punctuation)"
   ]
  },
  {
   "cell_type": "markdown",
   "id": "d39b3a3d",
   "metadata": {},
   "source": [
    "## Train-Test-Dev Split"
   ]
  },
  {
   "cell_type": "code",
   "execution_count": 13,
   "id": "67d1c111",
   "metadata": {},
   "outputs": [
    {
     "data": {
      "application/vnd.microsoft.datawrangler.viewer.v0+json": {
       "columns": [
        {
         "name": "split",
         "rawType": "object",
         "type": "string"
        },
        {
         "name": "count",
         "rawType": "int64",
         "type": "integer"
        }
       ],
       "ref": "8829223f-559e-428d-bd50-f5608616d178",
       "rows": [
        [
         "train",
         "58442"
        ],
        [
         "test",
         "7306"
        ],
        [
         "dev",
         "7305"
        ]
       ],
       "shape": {
        "columns": 1,
        "rows": 3
       }
      },
      "text/plain": [
       "split\n",
       "train    58442\n",
       "test      7306\n",
       "dev       7305\n",
       "Name: count, dtype: int64"
      ]
     },
     "execution_count": 13,
     "metadata": {},
     "output_type": "execute_result"
    }
   ],
   "source": [
    "from sklearn.model_selection import train_test_split\n",
    "\n",
    "# Set random seed for reproducibility\n",
    "RANDOM_STATE = 42\n",
    "\n",
    "# First, split off the test set (10%)\n",
    "df_temp, df_test = train_test_split(df, test_size=0.10, random_state=RANDOM_STATE, shuffle=True)\n",
    "# Then, split the remaining into train (80%) and dev (10%)\n",
    "df_train, df_dev = train_test_split(df_temp, test_size=0.1111, random_state=RANDOM_STATE, shuffle=True)  # 0.1111*0.9 ≈ 0.10\n",
    "\n",
    "# Add a new column indicating the split\n",
    "df_train = df_train.copy()\n",
    "df_train['split'] = 'train'\n",
    "df_dev = df_dev.copy()\n",
    "df_dev['split'] = 'dev'\n",
    "df_test = df_test.copy()\n",
    "df_test['split'] = 'test'\n",
    "\n",
    "# Concatenate and save\n",
    "df_split = pd.concat([df_train, df_dev, df_test], axis=0).reset_index(drop=True)\n",
    "df_split.to_csv(\"../dataset/preprocessed_dataset.csv\", index=False)\n",
    "\n",
    "df_split['split'].value_counts()"
   ]
  },
  {
   "cell_type": "markdown",
   "id": "806a0977",
   "metadata": {},
   "source": [
    "## Preview the Preprocessed Data"
   ]
  },
  {
   "cell_type": "code",
   "execution_count": 14,
   "id": "b0cf4bfb",
   "metadata": {},
   "outputs": [
    {
     "data": {
      "application/vnd.microsoft.datawrangler.viewer.v0+json": {
       "columns": [
        {
         "name": "index",
         "rawType": "int64",
         "type": "integer"
        },
        {
         "name": "text",
         "rawType": "object",
         "type": "string"
        },
        {
         "name": "label",
         "rawType": "object",
         "type": "string"
        },
        {
         "name": "split",
         "rawType": "object",
         "type": "string"
        }
       ],
       "ref": "44d662e4-c21d-4440-9635-18684709ff9c",
       "rows": [
        [
         "0",
         "እንደጫት መቃም መሠለ የሚኒሊክ ቁራጭ አርፈሽ ተቀመጪ",
         "hate",
         "train"
        ],
        [
         "1",
         "ሁሉም ተቃዋሚዎች ችግር ያቀርበሉ ማለት ግን ራሱ ችግር ነው",
         "hate",
         "train"
        ],
        [
         "2",
         "አህያ ወንድሙ አህያ ነው ወራሪና ተሠፋፊ ወንድም አናውቅም። ትግራይ ትሠእር",
         "hate",
         "train"
        ],
        [
         "3",
         "ወንድማ ቢሆን አቃጣሪ አይሆንም ነበር ይሄ እንዳልከው ወንዳገረድ ነው ሽንታም የሽንታም ልጅ",
         "hate",
         "train"
        ],
        [
         "4",
         "ይሸጣል ባህዳር ቀበሌ ባታ ሳይት ካሬ ሜትር ባለበት መዞር የሚችል ዋጋ በድርድር commission agent",
         "normal",
         "train"
        ]
       ],
       "shape": {
        "columns": 3,
        "rows": 5
       }
      },
      "text/html": [
       "<div>\n",
       "<style scoped>\n",
       "    .dataframe tbody tr th:only-of-type {\n",
       "        vertical-align: middle;\n",
       "    }\n",
       "\n",
       "    .dataframe tbody tr th {\n",
       "        vertical-align: top;\n",
       "    }\n",
       "\n",
       "    .dataframe thead th {\n",
       "        text-align: right;\n",
       "    }\n",
       "</style>\n",
       "<table border=\"1\" class=\"dataframe\">\n",
       "  <thead>\n",
       "    <tr style=\"text-align: right;\">\n",
       "      <th></th>\n",
       "      <th>text</th>\n",
       "      <th>label</th>\n",
       "      <th>split</th>\n",
       "    </tr>\n",
       "  </thead>\n",
       "  <tbody>\n",
       "    <tr>\n",
       "      <th>0</th>\n",
       "      <td>እንደጫት መቃም መሠለ የሚኒሊክ ቁራጭ አርፈሽ ተቀመጪ</td>\n",
       "      <td>hate</td>\n",
       "      <td>train</td>\n",
       "    </tr>\n",
       "    <tr>\n",
       "      <th>1</th>\n",
       "      <td>ሁሉም ተቃዋሚዎች ችግር ያቀርበሉ ማለት ግን ራሱ ችግር ነው</td>\n",
       "      <td>hate</td>\n",
       "      <td>train</td>\n",
       "    </tr>\n",
       "    <tr>\n",
       "      <th>2</th>\n",
       "      <td>አህያ ወንድሙ አህያ ነው ወራሪና ተሠፋፊ ወንድም አናውቅም። ትግራይ ትሠእር</td>\n",
       "      <td>hate</td>\n",
       "      <td>train</td>\n",
       "    </tr>\n",
       "    <tr>\n",
       "      <th>3</th>\n",
       "      <td>ወንድማ ቢሆን አቃጣሪ አይሆንም ነበር ይሄ እንዳልከው ወንዳገረድ ነው ሽን...</td>\n",
       "      <td>hate</td>\n",
       "      <td>train</td>\n",
       "    </tr>\n",
       "    <tr>\n",
       "      <th>4</th>\n",
       "      <td>ይሸጣል ባህዳር ቀበሌ ባታ ሳይት ካሬ ሜትር ባለበት መዞር የሚችል ዋጋ በ...</td>\n",
       "      <td>normal</td>\n",
       "      <td>train</td>\n",
       "    </tr>\n",
       "  </tbody>\n",
       "</table>\n",
       "</div>"
      ],
      "text/plain": [
       "                                                text   label  split\n",
       "0                  እንደጫት መቃም መሠለ የሚኒሊክ ቁራጭ አርፈሽ ተቀመጪ    hate  train\n",
       "1              ሁሉም ተቃዋሚዎች ችግር ያቀርበሉ ማለት ግን ራሱ ችግር ነው    hate  train\n",
       "2    አህያ ወንድሙ አህያ ነው ወራሪና ተሠፋፊ ወንድም አናውቅም። ትግራይ ትሠእር    hate  train\n",
       "3  ወንድማ ቢሆን አቃጣሪ አይሆንም ነበር ይሄ እንዳልከው ወንዳገረድ ነው ሽን...    hate  train\n",
       "4  ይሸጣል ባህዳር ቀበሌ ባታ ሳይት ካሬ ሜትር ባለበት መዞር የሚችል ዋጋ በ...  normal  train"
      ]
     },
     "execution_count": 14,
     "metadata": {},
     "output_type": "execute_result"
    }
   ],
   "source": [
    "# Preview the first few rows of the final split dataset\n",
    "# Show text, label, and split columns\n",
    "df_split[['text', 'label', 'split']].head()"
   ]
  },
  {
   "cell_type": "code",
   "execution_count": null,
   "id": "707ac1ab",
   "metadata": {},
   "outputs": [
    {
     "data": {
      "application/vnd.microsoft.datawrangler.viewer.v0+json": {
       "columns": [
        {
         "name": "index",
         "rawType": "int64",
         "type": "integer"
        },
        {
         "name": "ngram",
         "rawType": "object",
         "type": "string"
        },
        {
         "name": "count",
         "rawType": "int64",
         "type": "integer"
        }
       ],
       "ref": "05140694-89a1-4068-9432-bd5ac26d37ee",
       "rows": [
        [
         "8",
         "ነው",
         "30666"
        ],
        [
         "2",
         "ላይ",
         "8060"
        ],
        [
         "13",
         "እና",
         "7405"
        ],
        [
         "19",
         "ግን",
         "6045"
        ],
        [
         "1",
         "ህዝብ",
         "5140"
        ],
        [
         "11",
         "አማራ",
         "4632"
        ],
        [
         "4",
         "ምን",
         "4430"
        ],
        [
         "5",
         "ሠው",
         "4312"
        ],
        [
         "9",
         "ነገር",
         "4000"
        ],
        [
         "12",
         "አንተ",
         "3865"
        ],
        [
         "3",
         "መንግስት",
         "3761"
        ],
        [
         "7",
         "ነበር",
         "3708"
        ],
        [
         "6",
         "ብቻ",
         "3434"
        ],
        [
         "14",
         "እንደ",
         "3286"
        ],
        [
         "18",
         "ጋር",
         "3199"
        ],
        [
         "17",
         "የአማራ",
         "3100"
        ],
        [
         "16",
         "ወደ",
         "3068"
        ],
        [
         "15",
         "ክልል",
         "3047"
        ],
        [
         "10",
         "አሁን",
         "2789"
        ],
        [
         "0",
         "ሁሉ",
         "2667"
        ]
       ],
       "shape": {
        "columns": 2,
        "rows": 20
       }
      },
      "text/html": [
       "<div>\n",
       "<style scoped>\n",
       "    .dataframe tbody tr th:only-of-type {\n",
       "        vertical-align: middle;\n",
       "    }\n",
       "\n",
       "    .dataframe tbody tr th {\n",
       "        vertical-align: top;\n",
       "    }\n",
       "\n",
       "    .dataframe thead th {\n",
       "        text-align: right;\n",
       "    }\n",
       "</style>\n",
       "<table border=\"1\" class=\"dataframe\">\n",
       "  <thead>\n",
       "    <tr style=\"text-align: right;\">\n",
       "      <th></th>\n",
       "      <th>ngram</th>\n",
       "      <th>count</th>\n",
       "    </tr>\n",
       "  </thead>\n",
       "  <tbody>\n",
       "    <tr>\n",
       "      <th>8</th>\n",
       "      <td>ነው</td>\n",
       "      <td>30666</td>\n",
       "    </tr>\n",
       "    <tr>\n",
       "      <th>2</th>\n",
       "      <td>ላይ</td>\n",
       "      <td>8060</td>\n",
       "    </tr>\n",
       "    <tr>\n",
       "      <th>13</th>\n",
       "      <td>እና</td>\n",
       "      <td>7405</td>\n",
       "    </tr>\n",
       "    <tr>\n",
       "      <th>19</th>\n",
       "      <td>ግን</td>\n",
       "      <td>6045</td>\n",
       "    </tr>\n",
       "    <tr>\n",
       "      <th>1</th>\n",
       "      <td>ህዝብ</td>\n",
       "      <td>5140</td>\n",
       "    </tr>\n",
       "    <tr>\n",
       "      <th>11</th>\n",
       "      <td>አማራ</td>\n",
       "      <td>4632</td>\n",
       "    </tr>\n",
       "    <tr>\n",
       "      <th>4</th>\n",
       "      <td>ምን</td>\n",
       "      <td>4430</td>\n",
       "    </tr>\n",
       "    <tr>\n",
       "      <th>5</th>\n",
       "      <td>ሠው</td>\n",
       "      <td>4312</td>\n",
       "    </tr>\n",
       "    <tr>\n",
       "      <th>9</th>\n",
       "      <td>ነገር</td>\n",
       "      <td>4000</td>\n",
       "    </tr>\n",
       "    <tr>\n",
       "      <th>12</th>\n",
       "      <td>አንተ</td>\n",
       "      <td>3865</td>\n",
       "    </tr>\n",
       "    <tr>\n",
       "      <th>3</th>\n",
       "      <td>መንግስት</td>\n",
       "      <td>3761</td>\n",
       "    </tr>\n",
       "    <tr>\n",
       "      <th>7</th>\n",
       "      <td>ነበር</td>\n",
       "      <td>3708</td>\n",
       "    </tr>\n",
       "    <tr>\n",
       "      <th>6</th>\n",
       "      <td>ብቻ</td>\n",
       "      <td>3434</td>\n",
       "    </tr>\n",
       "    <tr>\n",
       "      <th>14</th>\n",
       "      <td>እንደ</td>\n",
       "      <td>3286</td>\n",
       "    </tr>\n",
       "    <tr>\n",
       "      <th>18</th>\n",
       "      <td>ጋር</td>\n",
       "      <td>3199</td>\n",
       "    </tr>\n",
       "    <tr>\n",
       "      <th>17</th>\n",
       "      <td>የአማራ</td>\n",
       "      <td>3100</td>\n",
       "    </tr>\n",
       "    <tr>\n",
       "      <th>16</th>\n",
       "      <td>ወደ</td>\n",
       "      <td>3068</td>\n",
       "    </tr>\n",
       "    <tr>\n",
       "      <th>15</th>\n",
       "      <td>ክልል</td>\n",
       "      <td>3047</td>\n",
       "    </tr>\n",
       "    <tr>\n",
       "      <th>10</th>\n",
       "      <td>አሁን</td>\n",
       "      <td>2789</td>\n",
       "    </tr>\n",
       "    <tr>\n",
       "      <th>0</th>\n",
       "      <td>ሁሉ</td>\n",
       "      <td>2667</td>\n",
       "    </tr>\n",
       "  </tbody>\n",
       "</table>\n",
       "</div>"
      ],
      "text/plain": [
       "    ngram  count\n",
       "8      ነው  30666\n",
       "2      ላይ   8060\n",
       "13     እና   7405\n",
       "19     ግን   6045\n",
       "1     ህዝብ   5140\n",
       "11    አማራ   4632\n",
       "4      ምን   4430\n",
       "5      ሠው   4312\n",
       "9     ነገር   4000\n",
       "12    አንተ   3865\n",
       "3   መንግስት   3761\n",
       "7     ነበር   3708\n",
       "6      ብቻ   3434\n",
       "14    እንደ   3286\n",
       "18     ጋር   3199\n",
       "17   የአማራ   3100\n",
       "16     ወደ   3068\n",
       "15    ክልል   3047\n",
       "10    አሁን   2789\n",
       "0      ሁሉ   2667"
      ]
     },
     "execution_count": 15,
     "metadata": {},
     "output_type": "execute_result"
    }
   ],
   "source": [
    "from sklearn.feature_extraction.text import CountVectorizer\n",
    "import pandas as pd\n",
    "\n",
    "# Check most common unigrams and bigrams in the preprocessed text\n",
    "vectorizer = CountVectorizer(ngram_range=(1,2), max_features=20)\n",
    "X = vectorizer.fit_transform(df_split['text'])\n",
    "features = vectorizer.get_feature_names_out()\n",
    "counts = X.sum(axis=0).A1\n",
    "ngram_freq = pd.DataFrame({'ngram': features, 'count': counts}).sort_values('count', ascending=False)\n",
    "ngram_freq"
   ]
  }
 ],
 "metadata": {
  "kernelspec": {
   "display_name": ".venv",
   "language": "python",
   "name": "python3"
  },
  "language_info": {
   "codemirror_mode": {
    "name": "ipython",
    "version": 3
   },
   "file_extension": ".py",
   "mimetype": "text/x-python",
   "name": "python",
   "nbconvert_exporter": "python",
   "pygments_lexer": "ipython3",
   "version": "3.11.2"
  }
 },
 "nbformat": 4,
 "nbformat_minor": 5
}
